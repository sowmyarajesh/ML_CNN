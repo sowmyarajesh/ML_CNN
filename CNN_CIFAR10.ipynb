{
  "nbformat": 4,
  "nbformat_minor": 0,
  "metadata": {
    "colab": {
      "name": "CNN_CIFAR10.ipynb",
      "provenance": [],
      "authorship_tag": "ABX9TyNv5nxhGoLDQzuEkMMm2GZG",
      "include_colab_link": true
    },
    "kernelspec": {
      "name": "python3",
      "display_name": "Python 3"
    },
    "language_info": {
      "name": "python"
    }
  },
  "cells": [
    {
      "cell_type": "markdown",
      "metadata": {
        "id": "view-in-github",
        "colab_type": "text"
      },
      "source": [
        "<a href=\"https://colab.research.google.com/github/sowmyarajesh/ML_CNN/blob/main/CNN_CIFAR10.ipynb\" target=\"_parent\"><img src=\"https://colab.research.google.com/assets/colab-badge.svg\" alt=\"Open In Colab\"/></a>"
      ]
    },
    {
      "cell_type": "code",
      "execution_count": 12,
      "metadata": {
        "id": "4rbFJfNpPd-t"
      },
      "outputs": [],
      "source": [
        "import tensorflow as tf\n",
        "import numpy as np\n",
        "import matplotlib.pyplot as plt\n",
        "import seaborn as sns"
      ]
    },
    {
      "cell_type": "markdown",
      "source": [
        "Reference: https://www.cs.toronto.edu/~kriz/cifar.html"
      ],
      "metadata": {
        "id": "1-HvOC-7TJT3"
      }
    },
    {
      "cell_type": "markdown",
      "source": [
        "## Dataset"
      ],
      "metadata": {
        "id": "zs89i3LGTTVw"
      }
    },
    {
      "cell_type": "code",
      "source": [
        "from tensorflow.keras.datasets import cifar10\n",
        "(Xtrain,yTrain), (Xtest, yTest) = cifar10.load_data()\n",
        "\n",
        "labelSet = [\n",
        "            \"0-airplane\",\n",
        "            \"1-automobile\",\n",
        "            \"2-bird\",\n",
        "            \"3-cat\",\n",
        "            \"4-deer\",\n",
        "            \"5-dog\",\n",
        "            \"6-frog\",\n",
        "            \"7-horse\",\n",
        "            \"8-ship\",\n",
        "            \"9-truck\"\n",
        "            ]"
      ],
      "metadata": {
        "id": "ZkzvsJDbP-kI"
      },
      "execution_count": 20,
      "outputs": []
    },
    {
      "cell_type": "code",
      "source": [
        "print(Xtrain.shape, Xtest.shape)"
      ],
      "metadata": {
        "colab": {
          "base_uri": "https://localhost:8080/"
        },
        "id": "7cy57lYMQTwl",
        "outputId": "5f31720d-3ed8-4ef3-955f-bb2839b08f7e"
      },
      "execution_count": 21,
      "outputs": [
        {
          "output_type": "stream",
          "name": "stdout",
          "text": [
            "(50000, 32, 32, 3) (10000, 32, 32, 3)\n"
          ]
        }
      ]
    },
    {
      "cell_type": "code",
      "source": [
        "Xtrain.min(), Xtrain.max(),  Xtest.min(), Xtest.max()"
      ],
      "metadata": {
        "colab": {
          "base_uri": "https://localhost:8080/"
        },
        "id": "c9PNCf9cQaIP",
        "outputId": "038dc9a7-572e-4226-d5da-67048d70b9f1"
      },
      "execution_count": 22,
      "outputs": [
        {
          "output_type": "execute_result",
          "data": {
            "text/plain": [
              "(0, 255, 0, 255)"
            ]
          },
          "metadata": {},
          "execution_count": 22
        }
      ]
    },
    {
      "cell_type": "code",
      "source": [
        "yTrain.min(), yTrain.max(), yTest.min(), yTest.max()"
      ],
      "metadata": {
        "colab": {
          "base_uri": "https://localhost:8080/"
        },
        "id": "2S64F_1kQjlp",
        "outputId": "0a60b2bc-9470-4965-83b7-deac8767149b"
      },
      "execution_count": 24,
      "outputs": [
        {
          "output_type": "execute_result",
          "data": {
            "text/plain": [
              "(0, 9, 0, 9)"
            ]
          },
          "metadata": {},
          "execution_count": 24
        }
      ]
    },
    {
      "cell_type": "markdown",
      "source": [
        "Normalize the images"
      ],
      "metadata": {
        "id": "x7IhVZiNXBf3"
      }
    },
    {
      "cell_type": "code",
      "source": [
        "Xtrain = Xtrain/255.0\n",
        "Xtest = Xtest/255.0"
      ],
      "metadata": {
        "id": "Pe6bDqarRD0e"
      },
      "execution_count": 25,
      "outputs": []
    },
    {
      "cell_type": "code",
      "source": [
        "Xtrain.min(),  Xtrain.max(), Xtest.min(), Xtest.max()"
      ],
      "metadata": {
        "colab": {
          "base_uri": "https://localhost:8080/"
        },
        "id": "CQoR04i_SLL8",
        "outputId": "58fb7fad-70ea-4c6f-b97f-bfef107cdd66"
      },
      "execution_count": 26,
      "outputs": [
        {
          "output_type": "execute_result",
          "data": {
            "text/plain": [
              "(0.0, 1.0, 0.0, 1.0)"
            ]
          },
          "metadata": {},
          "execution_count": 26
        }
      ]
    },
    {
      "cell_type": "code",
      "source": [
        "plt.imshow(Xtrain[0])"
      ],
      "metadata": {
        "id": "90zSHdxqXSH3",
        "outputId": "d1cdcb5a-313a-47a4-d01e-c5281f086c5f",
        "colab": {
          "base_uri": "https://localhost:8080/",
          "height": 283
        }
      },
      "execution_count": 27,
      "outputs": [
        {
          "output_type": "execute_result",
          "data": {
            "text/plain": [
              "<matplotlib.image.AxesImage at 0x7f5c64e62b10>"
            ]
          },
          "metadata": {},
          "execution_count": 27
        },
        {
          "output_type": "display_data",
          "data": {
            "text/plain": [
              "<Figure size 432x288 with 1 Axes>"
            ],
            "image/png": "[encoded data removed]"
          },
          "metadata": {
            "needs_background": "light"
          }
        }
      ]
    },
    {
      "cell_type": "markdown",
      "source": [
        "## Build the model"
      ],
      "metadata": {
        "id": "SGI9TJpnX50u"
      }
    },
    {
      "cell_type": "code",
      "source": [
        "model = tf.keras.models.Sequential()\n",
        "\n",
        "cnn_layer1 = tf.keras.layers.Conv2D(filters = 32, kernel_size=3, padding='same',activation ='relu', input_shape=(32,32,3) )\n",
        "cnn_layer2 = tf.keras.layers.Conv2D(filters = 32, kernel_size=3, padding='same',activation ='relu' )\n",
        "maxpool_layer1 = tf.keras.layers.MaxPool2D(pool_size = 2, strides = 2, padding='valid')\n",
        "cnn_layer3 = tf.keras.layers.Conv2D(filters = 64, kernel_size=3, padding='same',activation ='relu' )\n",
        "cnn_layer4 = tf.keras.layers.Conv2D(filters = 64, kernel_size=3, padding='same',activation ='relu' )\n",
        "maxpool_layer2 = tf.keras.layers.MaxPool2D(pool_size = 2, strides = 2, padding='valid')\n",
        "dropout_layer = tf.keras.layers.Dropout(0.4) # regularization technique\n",
        "flatten_layer = tf.keras.layers.Flatten()\n",
        "dense_layer1 = tf.keras.layers.Dense(units=128, activation='relu')\n",
        "dense_layer2 = tf.keras.layers.Dense(units=10, activation='softmax') # output layer\n",
        "\n",
        "\n",
        "model.add(cnn_layer1)\n",
        "model.add(cnn_layer2)\n",
        "model.add(maxpool_layer1)\n",
        "model.add(cnn_layer3)\n",
        "model.add(cnn_layer4)\n",
        "model.add(maxpool_layer2)\n",
        "model.add(dropout_layer)\n",
        "model.add(flatten_layer)\n",
        "model.add(dense_layer1)\n",
        "model.add(dense_layer2)\n",
        "\n",
        "model.summary()"
      ],
      "metadata": {
        "id": "3HQmu9ldXt9L",
        "outputId": "4d19e0fa-290a-49e8-8f23-8613b5eb3a21",
        "colab": {
          "base_uri": "https://localhost:8080/"
        }
      },
      "execution_count": 32,
      "outputs": [
        {
          "output_type": "stream",
          "name": "stdout",
          "text": [
            "Model: \"sequential_4\"\n",
            "_________________________________________________________________\n",
            " Layer (type)                Output Shape              Param #   \n",
            "=================================================================\n",
            " conv2d_12 (Conv2D)          (None, 32, 32, 32)        896       \n",
            "                                                                 \n",
            " conv2d_13 (Conv2D)          (None, 32, 32, 32)        9248      \n",
            "                                                                 \n",
            " max_pooling2d_2 (MaxPooling  (None, 16, 16, 32)       0         \n",
            " 2D)                                                             \n",
            "                                                                 \n",
            " conv2d_14 (Conv2D)          (None, 16, 16, 64)        18496     \n",
            "                                                                 \n",
            " conv2d_15 (Conv2D)          (None, 16, 16, 64)        36928     \n",
            "                                                                 \n",
            " max_pooling2d_3 (MaxPooling  (None, 8, 8, 64)         0         \n",
            " 2D)                                                             \n",
            "                                                                 \n",
            " dropout_3 (Dropout)         (None, 8, 8, 64)          0         \n",
            "                                                                 \n",
            " flatten_3 (Flatten)         (None, 4096)              0         \n",
            "                                                                 \n",
            " dense_6 (Dense)             (None, 128)               524416    \n",
            "                                                                 \n",
            " dense_7 (Dense)             (None, 10)                1290      \n",
            "                                                                 \n",
            "=================================================================\n",
            "Total params: 591,274\n",
            "Trainable params: 591,274\n",
            "Non-trainable params: 0\n",
            "_________________________________________________________________\n"
          ]
        }
      ]
    },
    {
      "cell_type": "markdown",
      "source": [
        "## Train"
      ],
      "metadata": {
        "id": "C2csahhmbzyV"
      }
    },
    {
      "cell_type": "code",
      "source": [
        "model.compile(loss='sparse_categorical_crossentropy',optimizer='adam', metrics =['sparse_categorical_accuracy'])"
      ],
      "metadata": {
        "id": "WcQSJk9AbGxY"
      },
      "execution_count": 35,
      "outputs": []
    },
    {
      "cell_type": "code",
      "source": [
        "model.fit(Xtrain,yTrain, batch_size=100, epochs=20)"
      ],
      "metadata": {
        "id": "vsOA6faJcKT1",
        "outputId": "c728f299-d9c5-4562-8c07-b0e771365b5b",
        "colab": {
          "base_uri": "https://localhost:8080/"
        }
      },
      "execution_count": 38,
      "outputs": [
        {
          "output_type": "stream",
          "name": "stdout",
          "text": [
            "Epoch 1/20\n",
            "500/500 [==============================] - 246s 491ms/step - loss: 0.1697 - sparse_categorical_accuracy: 0.9391\n",
            "Epoch 2/20\n",
            "500/500 [==============================] - 245s 490ms/step - loss: 0.1568 - sparse_categorical_accuracy: 0.9439\n",
            "Epoch 3/20\n",
            "500/500 [==============================] - 246s 492ms/step - loss: 0.1557 - sparse_categorical_accuracy: 0.9433\n",
            "Epoch 4/20\n",
            "500/500 [==============================] - 248s 495ms/step - loss: 0.1529 - sparse_categorical_accuracy: 0.9461\n",
            "Epoch 5/20\n",
            "500/500 [==============================] - 248s 495ms/step - loss: 0.1465 - sparse_categorical_accuracy: 0.9481\n",
            "Epoch 6/20\n",
            "500/500 [==============================] - 246s 492ms/step - loss: 0.1505 - sparse_categorical_accuracy: 0.9468\n",
            "Epoch 7/20\n",
            "500/500 [==============================] - 246s 493ms/step - loss: 0.1427 - sparse_categorical_accuracy: 0.9498\n",
            "Epoch 8/20\n",
            "500/500 [==============================] - 246s 492ms/step - loss: 0.1416 - sparse_categorical_accuracy: 0.9500\n",
            "Epoch 9/20\n",
            "500/500 [==============================] - 245s 490ms/step - loss: 0.1335 - sparse_categorical_accuracy: 0.9531\n",
            "Epoch 10/20\n",
            "500/500 [==============================] - 245s 489ms/step - loss: 0.1380 - sparse_categorical_accuracy: 0.9528\n",
            "Epoch 11/20\n",
            "500/500 [==============================] - 244s 488ms/step - loss: 0.1324 - sparse_categorical_accuracy: 0.9527\n",
            "Epoch 12/20\n",
            "500/500 [==============================] - 244s 489ms/step - loss: 0.1278 - sparse_categorical_accuracy: 0.9556\n",
            "Epoch 13/20\n",
            "500/500 [==============================] - 243s 487ms/step - loss: 0.1273 - sparse_categorical_accuracy: 0.9553\n",
            "Epoch 14/20\n",
            "500/500 [==============================] - 243s 486ms/step - loss: 0.1280 - sparse_categorical_accuracy: 0.9549\n",
            "Epoch 15/20\n",
            "500/500 [==============================] - 244s 487ms/step - loss: 0.1212 - sparse_categorical_accuracy: 0.9580\n",
            "Epoch 16/20\n",
            "500/500 [==============================] - 244s 487ms/step - loss: 0.1170 - sparse_categorical_accuracy: 0.9598\n",
            "Epoch 17/20\n",
            "500/500 [==============================] - 244s 488ms/step - loss: 0.1151 - sparse_categorical_accuracy: 0.9604\n",
            "Epoch 18/20\n",
            "500/500 [==============================] - 244s 488ms/step - loss: 0.1127 - sparse_categorical_accuracy: 0.9610\n",
            "Epoch 19/20\n",
            "500/500 [==============================] - 244s 488ms/step - loss: 0.1084 - sparse_categorical_accuracy: 0.9622\n",
            "Epoch 20/20\n",
            "500/500 [==============================] - 243s 487ms/step - loss: 0.1073 - sparse_categorical_accuracy: 0.9624\n"
          ]
        },
        {
          "output_type": "execute_result",
          "data": {
            "text/plain": [
              "<keras.callbacks.History at 0x7f5c5f5361d0>"
            ]
          },
          "metadata": {},
          "execution_count": 38
        }
      ]
    },
    {
      "cell_type": "markdown",
      "source": [
        "## Evaluate"
      ],
      "metadata": {
        "id": "6S34HftBSHkj"
      }
    },
    {
      "cell_type": "code",
      "source": [
        "test_loss, test_acc = model.evaluate(Xtest,yTest)"
      ],
      "metadata": {
        "id": "Mx__-nc_cbVG",
        "outputId": "9b848fdb-6cf1-4dbe-e84f-62fe4c8d95fb",
        "colab": {
          "base_uri": "https://localhost:8080/"
        }
      },
      "execution_count": 39,
      "outputs": [
        {
          "output_type": "stream",
          "name": "stdout",
          "text": [
            "313/313 [==============================] - 13s 42ms/step - loss: 1.0824 - sparse_categorical_accuracy: 0.7689\n"
          ]
        }
      ]
    },
    {
      "cell_type": "code",
      "source": [
        "test_acc"
      ],
      "metadata": {
        "id": "N8Wvok7hSS7o",
        "outputId": "6f009755-85d6-4748-ddea-6d03ed8b0a2c",
        "colab": {
          "base_uri": "https://localhost:8080/"
        }
      },
      "execution_count": 40,
      "outputs": [
        {
          "output_type": "execute_result",
          "data": {
            "text/plain": [
              "0.7688999772071838"
            ]
          },
          "metadata": {},
          "execution_count": 40
        }
      ]
    },
    {
      "cell_type": "code",
      "source": [
        ""
      ],
      "metadata": {
        "id": "6IqRjnb8SaCx"
      },
      "execution_count": null,
      "outputs": []
    }
  ]
}