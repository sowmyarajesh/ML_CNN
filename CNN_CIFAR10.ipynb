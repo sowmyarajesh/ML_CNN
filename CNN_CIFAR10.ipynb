{
  "nbformat": 4,
  "nbformat_minor": 0,
  "metadata": {
    "colab": {
      "name": "CNN_CIFAR10.ipynb",
      "provenance": [],
      "authorship_tag": "ABX9TyNw3cDo+1WMD3MJkMKSSvjY",
      "include_colab_link": true
    },
    "kernelspec": {
      "name": "python3",
      "display_name": "Python 3"
    },
    "language_info": {
      "name": "python"
    }
  },
  "cells": [
    {
      "cell_type": "markdown",
      "metadata": {
        "id": "view-in-github",
        "colab_type": "text"
      },
      "source": [
        "<a href=\"https://colab.research.google.com/github/sowmyarajesh/ML_CNN/blob/main/CNN_CIFAR10.ipynb\" target=\"_parent\"><img src=\"https://colab.research.google.com/assets/colab-badge.svg\" alt=\"Open In Colab\"/></a>"
      ]
    },
    {
      "cell_type": "code",
      "execution_count": 12,
      "metadata": {
        "id": "4rbFJfNpPd-t"
      },
      "outputs": [],
      "source": [
        "import tensorflow as tf\n",
        "import numpy as np\n",
        "import matplotlib.pyplot as plt\n",
        "import seaborn as sns"
      ]
    },
    {
      "cell_type": "markdown",
      "source": [
        "Reference: https://www.cs.toronto.edu/~kriz/cifar.html"
      ],
      "metadata": {
        "id": "1-HvOC-7TJT3"
      }
    },
    {
      "cell_type": "markdown",
      "source": [
        "## Dataset"
      ],
      "metadata": {
        "id": "zs89i3LGTTVw"
      }
    },
    {
      "cell_type": "code",
      "source": [
        "from tensorflow.keras.datasets import cifar10\n",
        "(Xtrain,yTrain), (Xtest, yTest) = cifar10.load_data()\n",
        "\n",
        "labelSet = [\n",
        "            \"0-airplane\",\n",
        "            \"1-automobile\",\n",
        "            \"2-bird\",\n",
        "            \"3-cat\",\n",
        "            \"4-deer\",\n",
        "            \"5-dog\",\n",
        "            \"6-frog\",\n",
        "            \"7-horse\",\n",
        "            \"8-ship\",\n",
        "            \"9-truck\"\n",
        "            ]"
      ],
      "metadata": {
        "id": "ZkzvsJDbP-kI"
      },
      "execution_count": 20,
      "outputs": []
    },
    {
      "cell_type": "code",
      "source": [
        "print(Xtrain.shape, Xtest.shape)"
      ],
      "metadata": {
        "colab": {
          "base_uri": "https://localhost:8080/"
        },
        "id": "7cy57lYMQTwl",
        "outputId": "5f31720d-3ed8-4ef3-955f-bb2839b08f7e"
      },
      "execution_count": 21,
      "outputs": [
        {
          "output_type": "stream",
          "name": "stdout",
          "text": [
            "(50000, 32, 32, 3) (10000, 32, 32, 3)\n"
          ]
        }
      ]
    },
    {
      "cell_type": "code",
      "source": [
        "Xtrain.min(), Xtrain.max(),  Xtest.min(), Xtest.max()"
      ],
      "metadata": {
        "colab": {
          "base_uri": "https://localhost:8080/"
        },
        "id": "c9PNCf9cQaIP",
        "outputId": "038dc9a7-572e-4226-d5da-67048d70b9f1"
      },
      "execution_count": 22,
      "outputs": [
        {
          "output_type": "execute_result",
          "data": {
            "text/plain": [
              "(0, 255, 0, 255)"
            ]
          },
          "metadata": {},
          "execution_count": 22
        }
      ]
    },
    {
      "cell_type": "code",
      "source": [
        "yTrain.min(), yTrain.max(), yTest.min(), yTest.max()"
      ],
      "metadata": {
        "colab": {
          "base_uri": "https://localhost:8080/"
        },
        "id": "2S64F_1kQjlp",
        "outputId": "0a60b2bc-9470-4965-83b7-deac8767149b"
      },
      "execution_count": 24,
      "outputs": [
        {
          "output_type": "execute_result",
          "data": {
            "text/plain": [
              "(0, 9, 0, 9)"
            ]
          },
          "metadata": {},
          "execution_count": 24
        }
      ]
    },
    {
      "cell_type": "markdown",
      "source": [
        "Normalize the images"
      ],
      "metadata": {
        "id": "x7IhVZiNXBf3"
      }
    },
    {
      "cell_type": "code",
      "source": [
        "Xtrain = Xtrain/255.0\n",
        "Xtest = Xtest/255.0"
      ],
      "metadata": {
        "id": "Pe6bDqarRD0e"
      },
      "execution_count": 25,
      "outputs": []
    },
    {
      "cell_type": "code",
      "source": [
        "Xtrain.min(),  Xtrain.max(), Xtest.min(), Xtest.max()"
      ],
      "metadata": {
        "colab": {
          "base_uri": "https://localhost:8080/"
        },
        "id": "CQoR04i_SLL8",
        "outputId": "58fb7fad-70ea-4c6f-b97f-bfef107cdd66"
      },
      "execution_count": 26,
      "outputs": [
        {
          "output_type": "execute_result",
          "data": {
            "text/plain": [
              "(0.0, 1.0, 0.0, 1.0)"
            ]
          },
          "metadata": {},
          "execution_count": 26
        }
      ]
    },
    {
      "cell_type": "code",
      "source": [
        "plt.imshow(Xtrain[0])"
      ],
      "metadata": {
        "colab": {
          "base_uri": "https://localhost:8080/",
          "height": 283
        },
        "id": "90zSHdxqXSH3",
        "outputId": "d1cdcb5a-313a-47a4-d01e-c5281f086c5f"
      },
      "execution_count": 27,
      "outputs": [
        {
          "output_type": "execute_result",
          "data": {
            "text/plain": [
              "<matplotlib.image.AxesImage at 0x7f5c64e62b10>"
            ]
          },
          "metadata": {},
          "execution_count": 27
        },
        {
          "output_type": "display_data",
          "data": {
            "text/plain": [
              "<Figure size 432x288 with 1 Axes>"
            ],
            "image/png": "[encoded data removed]"
          },
          "metadata": {
            "needs_background": "light"
          }
        }
      ]
    },
    {
      "cell_type": "markdown",
      "source": [
        "## Build the model"
      ],
      "metadata": {
        "id": "SGI9TJpnX50u"
      }
    },
    {
      "cell_type": "code",
      "source": [
        "model = tf.keras.models.Sequential()\n",
        "\n",
        "cnn_layer1 = tf.keras.layers.Conv2D(filters = 32, kernel_size=3, padding='same',activation ='relu', input_shape=(32,32,3) )\n",
        "cnn_layer2 = tf.keras.layers.Conv2D(filters = 32, kernel_size=3, padding='same',activation ='relu' )\n",
        "maxpool_layer1 = tf.keras.layers.MaxPool2D(pool_size = 2, strides = 2, padding='valid')\n",
        "cnn_layer3 = tf.keras.layers.Conv2D(filters = 64, kernel_size=3, padding='same',activation ='relu' )\n",
        "cnn_layer4 = tf.keras.layers.Conv2D(filters = 64, kernel_size=3, padding='same',activation ='relu' )\n",
        "maxpool_layer2 = tf.keras.layers.MaxPool2D(pool_size = 3, strides = 3, padding='valid')\n",
        "dropout_layer = tf.keras.layers.Dropout(0.2) # regularization technique\n",
        "flatten_layer = tf.keras.layers.Flatten()\n",
        "dense_layer1 = tf.keras.layers.Dense(units=128, activation='relu')\n",
        "dense_layer2 = tf.keras.layers.Dense(units=10, activation='softmax') # output layer\n",
        "\n",
        "\n",
        "model.add(cnn_layer1)\n",
        "model.add(cnn_layer2)\n",
        "model.add(maxpool_layer1)\n",
        "model.add(cnn_layer3)\n",
        "model.add(cnn_layer4)\n",
        "model.add(maxpool_layer2)\n",
        "model.add(dropout_layer)\n",
        "model.add(flatten_layer)\n",
        "model.add(dense_layer1)\n",
        "model.add(dense_layer2)\n",
        "\n",
        "model.summary()"
      ],
      "metadata": {
        "colab": {
          "base_uri": "https://localhost:8080/"
        },
        "id": "3HQmu9ldXt9L",
        "outputId": "1eb162c4-f2a4-4073-e545-c1b5789f7639"
      },
      "execution_count": 41,
      "outputs": [
        {
          "output_type": "stream",
          "name": "stdout",
          "text": [
            "Model: \"sequential_5\"\n",
            "_________________________________________________________________\n",
            " Layer (type)                Output Shape              Param #   \n",
            "=================================================================\n",
            " conv2d_16 (Conv2D)          (None, 32, 32, 32)        896       \n",
            "                                                                 \n",
            " conv2d_17 (Conv2D)          (None, 32, 32, 32)        9248      \n",
            "                                                                 \n",
            " max_pooling2d_4 (MaxPooling  (None, 16, 16, 32)       0         \n",
            " 2D)                                                             \n",
            "                                                                 \n",
            " conv2d_18 (Conv2D)          (None, 16, 16, 64)        18496     \n",
            "                                                                 \n",
            " conv2d_19 (Conv2D)          (None, 16, 16, 64)        36928     \n",
            "                                                                 \n",
            " max_pooling2d_5 (MaxPooling  (None, 5, 5, 64)         0         \n",
            " 2D)                                                             \n",
            "                                                                 \n",
            " dropout_4 (Dropout)         (None, 5, 5, 64)          0         \n",
            "                                                                 \n",
            " flatten_4 (Flatten)         (None, 1600)              0         \n",
            "                                                                 \n",
            " dense_8 (Dense)             (None, 128)               204928    \n",
            "                                                                 \n",
            " dense_9 (Dense)             (None, 10)                1290      \n",
            "                                                                 \n",
            "=================================================================\n",
            "Total params: 271,786\n",
            "Trainable params: 271,786\n",
            "Non-trainable params: 0\n",
            "_________________________________________________________________\n"
          ]
        }
      ]
    },
    {
      "cell_type": "markdown",
      "source": [
        "## Train"
      ],
      "metadata": {
        "id": "C2csahhmbzyV"
      }
    },
    {
      "cell_type": "code",
      "source": [
        "model.compile(loss='sparse_categorical_crossentropy',optimizer='adam', metrics =['sparse_categorical_accuracy'])"
      ],
      "metadata": {
        "id": "WcQSJk9AbGxY"
      },
      "execution_count": 42,
      "outputs": []
    },
    {
      "cell_type": "code",
      "source": [
        "model.fit(Xtrain,yTrain, batch_size=100, epochs=20)"
      ],
      "metadata": {
        "colab": {
          "base_uri": "https://localhost:8080/"
        },
        "id": "vsOA6faJcKT1",
        "outputId": "e7a6eb68-d968-44f8-a5c2-06453044da64"
      },
      "execution_count": 43,
      "outputs": [
        {
          "output_type": "stream",
          "name": "stdout",
          "text": [
            "Epoch 1/20\n",
            "500/500 [==============================] - 243s 484ms/step - loss: 1.5251 - sparse_categorical_accuracy: 0.4485\n",
            "Epoch 2/20\n",
            "500/500 [==============================] - 242s 483ms/step - loss: 1.0709 - sparse_categorical_accuracy: 0.6201\n",
            "Epoch 3/20\n",
            "500/500 [==============================] - 240s 480ms/step - loss: 0.8949 - sparse_categorical_accuracy: 0.6843\n",
            "Epoch 4/20\n",
            "500/500 [==============================] - 239s 479ms/step - loss: 0.7844 - sparse_categorical_accuracy: 0.7246\n",
            "Epoch 5/20\n",
            "500/500 [==============================] - 240s 479ms/step - loss: 0.7126 - sparse_categorical_accuracy: 0.7504\n",
            "Epoch 6/20\n",
            "500/500 [==============================] - 240s 479ms/step - loss: 0.6482 - sparse_categorical_accuracy: 0.7744\n",
            "Epoch 7/20\n",
            "500/500 [==============================] - 239s 478ms/step - loss: 0.5884 - sparse_categorical_accuracy: 0.7929\n",
            "Epoch 8/20\n",
            "500/500 [==============================] - 239s 479ms/step - loss: 0.5488 - sparse_categorical_accuracy: 0.8071\n",
            "Epoch 9/20\n",
            "500/500 [==============================] - 239s 479ms/step - loss: 0.5073 - sparse_categorical_accuracy: 0.8204\n",
            "Epoch 10/20\n",
            "500/500 [==============================] - 239s 478ms/step - loss: 0.4619 - sparse_categorical_accuracy: 0.8358\n",
            "Epoch 11/20\n",
            "500/500 [==============================] - 239s 478ms/step - loss: 0.4281 - sparse_categorical_accuracy: 0.8471\n",
            "Epoch 12/20\n",
            "500/500 [==============================] - 239s 477ms/step - loss: 0.3948 - sparse_categorical_accuracy: 0.8593\n",
            "Epoch 13/20\n",
            "500/500 [==============================] - 239s 478ms/step - loss: 0.3677 - sparse_categorical_accuracy: 0.8698\n",
            "Epoch 14/20\n",
            "500/500 [==============================] - 239s 479ms/step - loss: 0.3349 - sparse_categorical_accuracy: 0.8805\n",
            "Epoch 15/20\n",
            "500/500 [==============================] - 239s 478ms/step - loss: 0.3150 - sparse_categorical_accuracy: 0.8878\n",
            "Epoch 16/20\n",
            "500/500 [==============================] - 239s 478ms/step - loss: 0.2986 - sparse_categorical_accuracy: 0.8920\n",
            "Epoch 17/20\n",
            "500/500 [==============================] - 240s 479ms/step - loss: 0.2709 - sparse_categorical_accuracy: 0.9038\n",
            "Epoch 18/20\n",
            "500/500 [==============================] - 239s 479ms/step - loss: 0.2507 - sparse_categorical_accuracy: 0.9087\n",
            "Epoch 19/20\n",
            "500/500 [==============================] - 240s 480ms/step - loss: 0.2368 - sparse_categorical_accuracy: 0.9150\n",
            "Epoch 20/20\n",
            "500/500 [==============================] - 239s 479ms/step - loss: 0.2259 - sparse_categorical_accuracy: 0.9181\n"
          ]
        },
        {
          "output_type": "execute_result",
          "data": {
            "text/plain": [
              "<keras.callbacks.History at 0x7f5c64699210>"
            ]
          },
          "metadata": {},
          "execution_count": 43
        }
      ]
    },
    {
      "cell_type": "markdown",
      "source": [
        "## Evaluate"
      ],
      "metadata": {
        "id": "6S34HftBSHkj"
      }
    },
    {
      "cell_type": "code",
      "source": [
        "test_loss, test_acc = model.evaluate(Xtest,yTest)"
      ],
      "metadata": {
        "colab": {
          "base_uri": "https://localhost:8080/"
        },
        "id": "Mx__-nc_cbVG",
        "outputId": "8cf04cb1-f9d8-4bd3-f8f6-0077c2ff1b3f"
      },
      "execution_count": 44,
      "outputs": [
        {
          "output_type": "stream",
          "name": "stdout",
          "text": [
            "313/313 [==============================] - 13s 41ms/step - loss: 0.7652 - sparse_categorical_accuracy: 0.7805\n"
          ]
        }
      ]
    },
    {
      "cell_type": "code",
      "source": [
        "test_acc"
      ],
      "metadata": {
        "colab": {
          "base_uri": "https://localhost:8080/"
        },
        "id": "N8Wvok7hSS7o",
        "outputId": "32b4a040-c83c-4e9c-fe30-e70996962243"
      },
      "execution_count": 45,
      "outputs": [
        {
          "output_type": "execute_result",
          "data": {
            "text/plain": [
              "0.7804999947547913"
            ]
          },
          "metadata": {},
          "execution_count": 45
        }
      ]
    },
    {
      "cell_type": "code",
      "source": [
        ""
      ],
      "metadata": {
        "id": "6IqRjnb8SaCx"
      },
      "execution_count": null,
      "outputs": []
    }
  ]
}